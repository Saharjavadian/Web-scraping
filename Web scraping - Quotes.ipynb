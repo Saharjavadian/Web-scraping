{
 "cells": [
  {
   "cell_type": "code",
   "execution_count": null,
   "id": "0a5a65c8",
   "metadata": {},
   "outputs": [],
   "source": [
    "pip install requests beautifulsoup4 pandas"
   ]
  },
  {
   "cell_type": "code",
   "execution_count": 5,
   "id": "06136bc7",
   "metadata": {},
   "outputs": [
    {
     "name": "stdout",
     "output_type": "stream",
     "text": [
      "                                               quote           author  \\\n",
      "0  “The world as we have created it is a process ...  Albert Einstein   \n",
      "1  “It is our choices, Harry, that show what we t...     J.K. Rowling   \n",
      "2  “There are only two ways to live your life. On...  Albert Einstein   \n",
      "3  “The person, be it gentleman or lady, who has ...      Jane Austen   \n",
      "4  “Imperfection is beauty, madness is genius and...   Marilyn Monroe   \n",
      "\n",
      "                                           tags  \n",
      "0        change, deep-thoughts, thinking, world  \n",
      "1                            abilities, choices  \n",
      "2  inspirational, life, live, miracle, miracles  \n",
      "3              aliteracy, books, classic, humor  \n",
      "4                    be-yourself, inspirational  \n"
     ]
    }
   ],
   "source": [
    "import requests\n",
    "from bs4 import BeautifulSoup\n",
    "import pandas as pd\n",
    "\n",
    "# Base URL\n",
    "base_url = \"https://quotes.toscrape.com/page/{}/\"\n",
    "\n",
    "# Collect all quotes\n",
    "all_quotes = []\n",
    "\n",
    "# Loop through pages (we'll do first 5 pages here)\n",
    "for page in range(1, 30):\n",
    "    url = base_url.format(page)\n",
    "    response = requests.get(url)\n",
    "    if response.status_code != 200:\n",
    "        print(f\"Failed to retrieve page {page}\")\n",
    "        break\n",
    "\n",
    "    soup = BeautifulSoup(response.text, 'html.parser')\n",
    "\n",
    "    # Find all quote blocks\n",
    "    quote_blocks = soup.find_all(\"div\", class_=\"quote\")\n",
    "\n",
    "    # Extract data\n",
    "    for quote in quote_blocks:\n",
    "        text = quote.find(\"span\", class_=\"text\").text\n",
    "        author = quote.find(\"small\", class_=\"author\").text\n",
    "        tags = [tag.text for tag in quote.find_all(\"a\", class_=\"tag\")]\n",
    "        all_quotes.append({\n",
    "            \"quote\": text,\n",
    "            \"author\": author,\n",
    "            \"tags\": \", \".join(tags)\n",
    "        })\n",
    "\n",
    "# Convert to DataFrame\n",
    "df = pd.DataFrame(all_quotes)\n",
    "\n",
    "# Show result\n",
    "print(df.head())\n"
   ]
  },
  {
   "cell_type": "code",
   "execution_count": null,
   "id": "14c2a3c1",
   "metadata": {},
   "outputs": [],
   "source": []
  }
 ],
 "metadata": {
  "kernelspec": {
   "display_name": "Python 3 (ipykernel)",
   "language": "python",
   "name": "python3"
  },
  "language_info": {
   "codemirror_mode": {
    "name": "ipython",
    "version": 3
   },
   "file_extension": ".py",
   "mimetype": "text/x-python",
   "name": "python",
   "nbconvert_exporter": "python",
   "pygments_lexer": "ipython3",
   "version": "3.9.7"
  }
 },
 "nbformat": 4,
 "nbformat_minor": 5
}
